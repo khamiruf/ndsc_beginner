{
 "cells": [
  {
   "cell_type": "markdown",
   "metadata": {},
   "source": [
    "# NDSC_beginner_LSTM_withColab\n",
    "_run custom Glove with train.csv first before this_"
   ]
  },
  {
   "cell_type": "code",
   "execution_count": 1,
   "metadata": {
    "colab": {
     "base_uri": "https://localhost:8080/",
     "height": 34
    },
    "colab_type": "code",
    "id": "HRmZ6-8Jhc_3",
    "outputId": "dead1af2-6f6b-4828-d56c-845ecd8e29d1"
   },
   "outputs": [
    {
     "data": {
      "text/plain": [
       "'/device:GPU:0'"
      ]
     },
     "execution_count": 1,
     "metadata": {
      "tags": []
     },
     "output_type": "execute_result"
    }
   ],
   "source": [
    "import tensorflow as tf\n",
    "tf.test.gpu_device_name()"
   ]
  },
  {
   "cell_type": "code",
   "execution_count": 0,
   "metadata": {
    "colab": {},
    "colab_type": "code",
    "id": "Tj4d-iFhKMLK"
   },
   "outputs": [],
   "source": [
    "import os\n",
    "import math\n",
    "from tqdm import tqdm\n",
    "import numpy as np \n",
    "import pandas as pd\n",
    "from sklearn.model_selection import train_test_split\n",
    "\n",
    "import matplotlib.pyplot as plt\n",
    "\n",
    "%matplotlib inline"
   ]
  },
  {
   "cell_type": "code",
   "execution_count": 0,
   "metadata": {
    "colab": {},
    "colab_type": "code",
    "id": "TqoRNEpwNS5R"
   },
   "outputs": [],
   "source": [
    "# from google.colab import files\n",
    "# uploaded = files.upload()"
   ]
  },
  {
   "cell_type": "code",
   "execution_count": 4,
   "metadata": {
    "colab": {
     "base_uri": "https://localhost:8080/",
     "height": 204
    },
    "colab_type": "code",
    "id": "MEBUWpMhKa6Q",
    "outputId": "88848132-3f28-4f92-c797-cd96a0259c6d"
   },
   "outputs": [
    {
     "data": {
      "text/html": [
       "<div>\n",
       "<style scoped>\n",
       "    .dataframe tbody tr th:only-of-type {\n",
       "        vertical-align: middle;\n",
       "    }\n",
       "\n",
       "    .dataframe tbody tr th {\n",
       "        vertical-align: top;\n",
       "    }\n",
       "\n",
       "    .dataframe thead th {\n",
       "        text-align: right;\n",
       "    }\n",
       "</style>\n",
       "<table border=\"1\" class=\"dataframe\">\n",
       "  <thead>\n",
       "    <tr style=\"text-align: right;\">\n",
       "      <th></th>\n",
       "      <th>itemid</th>\n",
       "      <th>title</th>\n",
       "      <th>Category</th>\n",
       "      <th>image_path</th>\n",
       "    </tr>\n",
       "  </thead>\n",
       "  <tbody>\n",
       "    <tr>\n",
       "      <th>651244</th>\n",
       "      <td>1088744053</td>\n",
       "      <td>samsung note 5 dual sim 32gb gold normal aman ...</td>\n",
       "      <td>32</td>\n",
       "      <td>mobile_image/49410ad651a55f2fd90175453263cff8.jpg</td>\n",
       "    </tr>\n",
       "    <tr>\n",
       "      <th>379280</th>\n",
       "      <td>238072487</td>\n",
       "      <td>dress pensil o neck lengan pendek desain patch...</td>\n",
       "      <td>22</td>\n",
       "      <td>fashion_image/9290eca02841b760bd0d74a3683195aa</td>\n",
       "    </tr>\n",
       "    <tr>\n",
       "      <th>480167</th>\n",
       "      <td>1537988006</td>\n",
       "      <td>kaos t shirt wanita lengan pendek model longga...</td>\n",
       "      <td>25</td>\n",
       "      <td>fashion_image/0e93a56abef8cb89a8741e0ce4774766</td>\n",
       "    </tr>\n",
       "    <tr>\n",
       "      <th>167687</th>\n",
       "      <td>1526508992</td>\n",
       "      <td>theraskin niacin cream</td>\n",
       "      <td>4</td>\n",
       "      <td>beauty_image/e99c45f60dedb31058efbdc441df601d.jpg</td>\n",
       "    </tr>\n",
       "    <tr>\n",
       "      <th>209732</th>\n",
       "      <td>1317982331</td>\n",
       "      <td>bioaqua 5in1 concealer bb cream mascara lipsti...</td>\n",
       "      <td>5</td>\n",
       "      <td>beauty_image/2c713f40dbec7d5602cc26dd52a345e1.jpg</td>\n",
       "    </tr>\n",
       "  </tbody>\n",
       "</table>\n",
       "</div>"
      ],
      "text/plain": [
       "            itemid                                              title  \\\n",
       "651244  1088744053  samsung note 5 dual sim 32gb gold normal aman ...   \n",
       "379280   238072487  dress pensil o neck lengan pendek desain patch...   \n",
       "480167  1537988006  kaos t shirt wanita lengan pendek model longga...   \n",
       "167687  1526508992                             theraskin niacin cream   \n",
       "209732  1317982331  bioaqua 5in1 concealer bb cream mascara lipsti...   \n",
       "\n",
       "        Category                                         image_path  \n",
       "651244        32  mobile_image/49410ad651a55f2fd90175453263cff8.jpg  \n",
       "379280        22     fashion_image/9290eca02841b760bd0d74a3683195aa  \n",
       "480167        25     fashion_image/0e93a56abef8cb89a8741e0ce4774766  \n",
       "167687         4  beauty_image/e99c45f60dedb31058efbdc441df601d.jpg  \n",
       "209732         5  beauty_image/2c713f40dbec7d5602cc26dd52a345e1.jpg  "
      ]
     },
     "execution_count": 4,
     "metadata": {
      "tags": []
     },
     "output_type": "execute_result"
    }
   ],
   "source": [
    "train_df = pd.read_csv(\"train.csv\")\n",
    "train_df = train_df.sample(frac=1.)\n",
    "val_df = train_df[:1000]\n",
    "train_df = train_df[1000:]\n",
    "val_df.head()"
   ]
  },
  {
   "cell_type": "code",
   "execution_count": 5,
   "metadata": {
    "colab": {
     "base_uri": "https://localhost:8080/",
     "height": 34
    },
    "colab_type": "code",
    "id": "KAJU5t0cqAr4",
    "outputId": "c2db5c24-2006-4b87-b263-f24142bba94d"
   },
   "outputs": [
    {
     "data": {
      "text/plain": [
       "(1000, 4)"
      ]
     },
     "execution_count": 5,
     "metadata": {
      "tags": []
     },
     "output_type": "execute_result"
    }
   ],
   "source": [
    "val_df.shape"
   ]
  },
  {
   "cell_type": "code",
   "execution_count": 6,
   "metadata": {
    "colab": {
     "base_uri": "https://localhost:8080/",
     "height": 34
    },
    "colab_type": "code",
    "id": "EUTs-oHfp87W",
    "outputId": "28a1d187-4728-480d-d8bc-b0b13c14ec86"
   },
   "outputs": [
    {
     "data": {
      "text/plain": [
       "(665615, 4)"
      ]
     },
     "execution_count": 6,
     "metadata": {
      "tags": []
     },
     "output_type": "execute_result"
    }
   ],
   "source": [
    "train_df.shape"
   ]
  },
  {
   "cell_type": "code",
   "execution_count": 7,
   "metadata": {
    "colab": {
     "base_uri": "https://localhost:8080/",
     "height": 267
    },
    "colab_type": "code",
    "id": "E-aKBiVQKa8P",
    "outputId": "a9d5a8f1-cdab-444b-e1f1-50528fbfec19"
   },
   "outputs": [
    {
     "data": {
      "image/png": "[encoded data removed]",
      "text/plain": [
       "<Figure size 720x288 with 1 Axes>"
      ]
     },
     "metadata": {
      "tags": []
     },
     "output_type": "display_data"
    }
   ],
   "source": [
    "plt.figure(figsize=(10,4))\n",
    "train_df.Category.value_counts().plot(kind='bar');"
   ]
  },
  {
   "cell_type": "code",
   "execution_count": 8,
   "metadata": {
    "colab": {
     "base_uri": "https://localhost:8080/",
     "height": 51
    },
    "colab_type": "code",
    "id": "igGuiWPNKa-X",
    "outputId": "a7726ac2-056b-4c9c-bc54-cbe480ee4d69"
   },
   "outputs": [
    {
     "name": "stderr",
     "output_type": "stream",
     "text": [
      "16690it [00:00, 29936.69it/s]"
     ]
    },
    {
     "name": "stdout",
     "output_type": "stream",
     "text": [
      "Found 16690 word vectors.\n"
     ]
    },
    {
     "name": "stderr",
     "output_type": "stream",
     "text": [
      "\n"
     ]
    }
   ],
   "source": [
    "# Embdedding setup, save it in a dictionary for easier queries\n",
    "embeddings_index = {}\n",
    "f = open('custom_glove_100d.txt')\n",
    "for line in tqdm(f):\n",
    "    values = line.split(\" \")\n",
    "    word = values[0]\n",
    "    coefs = np.asarray(values[1:], dtype='float32')\n",
    "    embeddings_index[word] = coefs\n",
    "f.close()\n",
    "\n",
    "print('Found %s word vectors.' % len(embeddings_index))"
   ]
  },
  {
   "cell_type": "code",
   "execution_count": 0,
   "metadata": {
    "colab": {},
    "colab_type": "code",
    "id": "7xupl7sqKbAp"
   },
   "outputs": [],
   "source": [
    "# Convert values to embeddings\n",
    "def text_to_array(text):\n",
    "    empyt_emb = np.zeros(100)\n",
    "    text = text[:-1].split()[:100]\n",
    "    embeds = [embeddings_index.get(x, empyt_emb) for x in text]\n",
    "    embeds+= [empyt_emb] * (100 - len(embeds))\n",
    "    return np.array(embeds)"
   ]
  },
  {
   "cell_type": "code",
   "execution_count": 0,
   "metadata": {
    "colab": {},
    "colab_type": "code",
    "id": "TmkaN0hjKbC4"
   },
   "outputs": [],
   "source": [
    "val_vects = np.array([text_to_array(X_text) for X_text in (val_df[\"title\"][:])])\n",
    "val_y_labels = np.array(val_df[\"Category\"])\n",
    "# val_y = np.zeros((len(val_y_labels), 58))\n",
    "# val_y[np.arange(len(val_y_labels)), val_y_labels] = 1"
   ]
  },
  {
   "cell_type": "code",
   "execution_count": 11,
   "metadata": {
    "colab": {
     "base_uri": "https://localhost:8080/",
     "height": 1615
    },
    "colab_type": "code",
    "id": "sfL_fyuTKbFP",
    "outputId": "64afa55f-74e6-41e2-b317-b53543043b6f"
   },
   "outputs": [
    {
     "name": "stdout",
     "output_type": "stream",
     "text": [
      "(128, 100, 100)\n",
      "(128, 58)\n",
      "[[[-0.09847451  0.6330533   0.15802506 ... -0.43873549 -0.59449768\n",
      "   -0.49114525]\n",
      "  [ 0.31039712  0.51801658 -0.35143414 ...  0.16992922  0.15494995\n",
      "   -0.03809067]\n",
      "  [ 0.01175395  0.60735446 -0.44130594 ...  0.42869753  0.39359817\n",
      "   -0.44444847]\n",
      "  ...\n",
      "  [ 0.          0.          0.         ...  0.          0.\n",
      "    0.        ]\n",
      "  [ 0.          0.          0.         ...  0.          0.\n",
      "    0.        ]\n",
      "  [ 0.          0.          0.         ...  0.          0.\n",
      "    0.        ]]\n",
      "\n",
      " [[-0.25342065  0.41580129  0.0435044  ...  0.07893132 -0.36673653\n",
      "   -0.72164488]\n",
      "  [ 0.          0.          0.         ...  0.          0.\n",
      "    0.        ]\n",
      "  [ 0.          0.          0.         ...  0.          0.\n",
      "    0.        ]\n",
      "  ...\n",
      "  [ 0.          0.          0.         ...  0.          0.\n",
      "    0.        ]\n",
      "  [ 0.          0.          0.         ...  0.          0.\n",
      "    0.        ]\n",
      "  [ 0.          0.          0.         ...  0.          0.\n",
      "    0.        ]]\n",
      "\n",
      " [[ 0.25013015 -0.1022802  -0.02528099 ...  0.60490495 -0.04874477\n",
      "   -0.1666282 ]\n",
      "  [ 0.1131688   0.62451214 -0.55040205 ... -0.15294559  0.08673935\n",
      "    0.6649375 ]\n",
      "  [ 0.52232206  0.22805853 -0.8461529  ...  0.64053351  0.054517\n",
      "   -0.61495376]\n",
      "  ...\n",
      "  [ 0.          0.          0.         ...  0.          0.\n",
      "    0.        ]\n",
      "  [ 0.          0.          0.         ...  0.          0.\n",
      "    0.        ]\n",
      "  [ 0.          0.          0.         ...  0.          0.\n",
      "    0.        ]]\n",
      "\n",
      " ...\n",
      "\n",
      " [[-0.4512977   0.61050743 -0.29026762 ... -0.39690444 -0.32597527\n",
      "   -0.48720652]\n",
      "  [-0.49590126 -0.46636844 -0.3222824  ...  0.03116363 -0.87671602\n",
      "    0.1955986 ]\n",
      "  [-0.16520238  0.66837776  0.53082603 ...  0.0899061  -0.54932708\n",
      "    0.48069316]\n",
      "  ...\n",
      "  [ 0.          0.          0.         ...  0.          0.\n",
      "    0.        ]\n",
      "  [ 0.          0.          0.         ...  0.          0.\n",
      "    0.        ]\n",
      "  [ 0.          0.          0.         ...  0.          0.\n",
      "    0.        ]]\n",
      "\n",
      " [[ 0.1985824   0.07978461 -0.14643013 ...  0.40651196  0.28124365\n",
      "   -0.19318782]\n",
      "  [ 0.1003466   0.61759704  0.03003576 ...  0.5228138  -0.52469194\n",
      "    0.10450017]\n",
      "  [ 0.44368592  0.46442208 -0.06015742 ...  0.56647706 -0.95010215\n",
      "    0.48190406]\n",
      "  ...\n",
      "  [ 0.          0.          0.         ...  0.          0.\n",
      "    0.        ]\n",
      "  [ 0.          0.          0.         ...  0.          0.\n",
      "    0.        ]\n",
      "  [ 0.          0.          0.         ...  0.          0.\n",
      "    0.        ]]\n",
      "\n",
      " [[ 0.09200394  0.25515524 -0.14398901 ...  0.91661626 -0.25614521\n",
      "    0.32785848]\n",
      "  [-0.18932348  0.53003216 -0.16402386 ...  0.3295331  -0.00269654\n",
      "    0.0585052 ]\n",
      "  [-0.12480289  0.40718332  0.28360343 ...  0.28682664  0.71937656\n",
      "   -0.10082869]\n",
      "  ...\n",
      "  [ 0.          0.          0.         ...  0.          0.\n",
      "    0.        ]\n",
      "  [ 0.          0.          0.         ...  0.          0.\n",
      "    0.        ]\n",
      "  [ 0.          0.          0.         ...  0.          0.\n",
      "    0.        ]]]\n",
      "[[0. 0. 0. ... 0. 0. 0.]\n",
      " [0. 0. 0. ... 0. 0. 0.]\n",
      " [0. 0. 0. ... 0. 0. 0.]\n",
      " ...\n",
      " [0. 0. 0. ... 0. 0. 0.]\n",
      " [0. 0. 0. ... 0. 0. 0.]\n",
      " [0. 0. 0. ... 0. 0. 0.]]\n"
     ]
    }
   ],
   "source": [
    "# Understand what a batch is made of\n",
    "batch_size = 128\n",
    "i = 0\n",
    "texts = train_df.iloc[i*batch_size:(i+1)*batch_size, 1]\n",
    "text_arr = np.array([text_to_array(text) for text in texts])\n",
    "batch_labels = np.array(train_df[\"Category\"][i*batch_size:(i+1)*batch_size])\n",
    "batch_targets = np.zeros((batch_size, 58))\n",
    "batch_targets[np.arange(batch_size), batch_labels] = 1\n",
    "print(np.shape(text_arr))\n",
    "print(np.shape(batch_targets))\n",
    "print(text_arr)\n",
    "print(batch_targets)"
   ]
  },
  {
   "cell_type": "code",
   "execution_count": 0,
   "metadata": {
    "colab": {},
    "colab_type": "code",
    "id": "gxLSa1izKbHf"
   },
   "outputs": [],
   "source": [
    "# Write generator, which \n",
    "batch_size = 128\n",
    "\n",
    "def batch_gen(train_df):\n",
    "    n_batches = math.floor(len(train_df) / batch_size)\n",
    "    while True: \n",
    "        train_df = train_df.sample(frac=1.)  # Shuffle the data.\n",
    "        for i in range(n_batches):\n",
    "            texts = train_df.iloc[i*batch_size:(i+1)*batch_size, 1]\n",
    "            text_arr = np.array([text_to_array(text) for text in texts])\n",
    "            batch_labels = np.array(train_df[\"Category\"][i*batch_size:(i+1)*batch_size])\n",
    "            yield text_arr, batch_labels"
   ]
  },
  {
   "cell_type": "markdown",
   "metadata": {
    "colab_type": "text",
    "id": "zTxwP_4zMfe_"
   },
   "source": [
    "# Training"
   ]
  },
  {
   "cell_type": "code",
   "execution_count": 13,
   "metadata": {
    "colab": {
     "base_uri": "https://localhost:8080/",
     "height": 34
    },
    "colab_type": "code",
    "id": "z3kW8aasKbJy",
    "outputId": "6c33ec93-e1d6-4d58-c953-2623f6d95352"
   },
   "outputs": [
    {
     "name": "stderr",
     "output_type": "stream",
     "text": [
      "Using TensorFlow backend.\n"
     ]
    }
   ],
   "source": [
    "from keras.models import Sequential\n",
    "from keras.layers import CuDNNLSTM, Dense, Bidirectional, Activation, Dropout"
   ]
  },
  {
   "cell_type": "code",
   "execution_count": 0,
   "metadata": {
    "colab": {},
    "colab_type": "code",
    "id": "73hain6XKbLi"
   },
   "outputs": [],
   "source": [
    "import matplotlib.pyplot as plt\n",
    "\n",
    "def plot_history(history):\n",
    "    plt.figure(figsize=(12,6))\n",
    "    plt.plot(history.history[\"loss\"], color=\"purple\")\n",
    "    plt.plot(history.history[\"acc\"], color=\"blue\")\n",
    "    plt.plot(history.history[\"val_loss\"], color=\"red\")\n",
    "    plt.plot(history.history[\"val_acc\"], color=\"green\")\n",
    "    plt.xlim(0,)\n",
    "    plt.ylim(0.5,1.5)\n",
    "    plt.legend(['loss', 'acc', \"val_loss\", \"val_acc\"], loc='upper right')\n",
    "    plt.show()"
   ]
  },
  {
   "cell_type": "code",
   "execution_count": 15,
   "metadata": {
    "colab": {
     "base_uri": "https://localhost:8080/",
     "height": 139
    },
    "colab_type": "code",
    "id": "elTZt3y3Mhrg",
    "outputId": "8407d13c-9159-4b07-fafe-e1591841b0ad"
   },
   "outputs": [
    {
     "name": "stdout",
     "output_type": "stream",
     "text": [
      "WARNING:tensorflow:From /usr/local/lib/python3.6/dist-packages/tensorflow/python/framework/op_def_library.py:263: colocate_with (from tensorflow.python.framework.ops) is deprecated and will be removed in a future version.\n",
      "Instructions for updating:\n",
      "Colocations handled automatically by placer.\n",
      "WARNING:tensorflow:From /usr/local/lib/python3.6/dist-packages/keras/backend/tensorflow_backend.py:3445: calling dropout (from tensorflow.python.ops.nn_ops) with keep_prob is deprecated and will be removed in a future version.\n",
      "Instructions for updating:\n",
      "Please use `rate` instead of `keep_prob`. Rate should be set to `rate = 1 - keep_prob`.\n"
     ]
    }
   ],
   "source": [
    "model = Sequential()\n",
    "model.add(Bidirectional(CuDNNLSTM(128, return_sequences=True),\n",
    "                        input_shape=(100, 100)))\n",
    "model.add(Dropout(0.05))\n",
    "model.add(Bidirectional(CuDNNLSTM(128)))\n",
    "model.add(Dense(58))\n",
    "model.add(Activation('softmax'))\n",
    "\n",
    "model.compile(loss='sparse_categorical_crossentropy',\n",
    "              optimizer='adam',\n",
    "              metrics=['accuracy'])"
   ]
  },
  {
   "cell_type": "code",
   "execution_count": 16,
   "metadata": {
    "colab": {
     "base_uri": "https://localhost:8080/",
     "height": 306
    },
    "colab_type": "code",
    "id": "SLOb5YH2Mhtf",
    "outputId": "71ea4faa-805d-4bd0-9b95-bc03eca95cb7"
   },
   "outputs": [
    {
     "name": "stdout",
     "output_type": "stream",
     "text": [
      "_________________________________________________________________\n",
      "Layer (type)                 Output Shape              Param #   \n",
      "=================================================================\n",
      "bidirectional_1 (Bidirection (None, 100, 256)          235520    \n",
      "_________________________________________________________________\n",
      "dropout_1 (Dropout)          (None, 100, 256)          0         \n",
      "_________________________________________________________________\n",
      "bidirectional_2 (Bidirection (None, 256)               395264    \n",
      "_________________________________________________________________\n",
      "dense_1 (Dense)              (None, 58)                14906     \n",
      "_________________________________________________________________\n",
      "activation_1 (Activation)    (None, 58)                0         \n",
      "=================================================================\n",
      "Total params: 645,690\n",
      "Trainable params: 645,690\n",
      "Non-trainable params: 0\n",
      "_________________________________________________________________\n"
     ]
    }
   ],
   "source": [
    "model.summary()"
   ]
  },
  {
   "cell_type": "code",
   "execution_count": 17,
   "metadata": {
    "colab": {
     "base_uri": "https://localhost:8080/",
     "height": 2128
    },
    "colab_type": "code",
    "id": "1HACmYk9Mhvp",
    "outputId": "49053550-4a08-44b9-fcb6-40a81d4622e5"
   },
   "outputs": [
    {
     "name": "stdout",
     "output_type": "stream",
     "text": [
      "WARNING:tensorflow:From /usr/local/lib/python3.6/dist-packages/tensorflow/python/ops/math_ops.py:3066: to_int32 (from tensorflow.python.ops.math_ops) is deprecated and will be removed in a future version.\n",
      "Instructions for updating:\n",
      "Use tf.cast instead.\n",
      "Epoch 1/90\n",
      "1000/1000 [==============================] - 118s 118ms/step - loss: 1.3204 - acc: 0.6060 - val_loss: 1.0566 - val_acc: 0.6750\n",
      "Epoch 2/90\n",
      "1000/1000 [==============================] - 116s 116ms/step - loss: 1.0705 - acc: 0.6708 - val_loss: 1.0187 - val_acc: 0.6800\n",
      "Epoch 3/90\n",
      "1000/1000 [==============================] - 115s 115ms/step - loss: 1.0167 - acc: 0.6842 - val_loss: 0.9867 - val_acc: 0.6980\n",
      "Epoch 4/90\n",
      "1000/1000 [==============================] - 115s 115ms/step - loss: 0.9978 - acc: 0.6891 - val_loss: 0.9464 - val_acc: 0.7120\n",
      "Epoch 5/90\n",
      "1000/1000 [==============================] - 115s 115ms/step - loss: 0.9851 - acc: 0.6906 - val_loss: 0.9513 - val_acc: 0.7000\n",
      "Epoch 6/90\n",
      "1000/1000 [==============================] - 115s 115ms/step - loss: 0.9616 - acc: 0.6965 - val_loss: 0.9444 - val_acc: 0.7030\n",
      "Epoch 7/90\n",
      "1000/1000 [==============================] - 115s 115ms/step - loss: 0.9492 - acc: 0.7000 - val_loss: 0.9243 - val_acc: 0.7090\n",
      "Epoch 8/90\n",
      "1000/1000 [==============================] - 115s 115ms/step - loss: 0.9410 - acc: 0.7019 - val_loss: 0.9072 - val_acc: 0.7200\n",
      "Epoch 9/90\n",
      "1000/1000 [==============================] - 116s 116ms/step - loss: 0.9370 - acc: 0.7023 - val_loss: 0.9364 - val_acc: 0.7050\n",
      "Epoch 10/90\n",
      "1000/1000 [==============================] - 115s 115ms/step - loss: 0.9241 - acc: 0.7081 - val_loss: 0.9080 - val_acc: 0.7090\n",
      "Epoch 11/90\n",
      "1000/1000 [==============================] - 115s 115ms/step - loss: 0.9043 - acc: 0.7106 - val_loss: 0.9107 - val_acc: 0.7070\n",
      "Epoch 12/90\n",
      "1000/1000 [==============================] - 115s 115ms/step - loss: 0.8962 - acc: 0.7140 - val_loss: 0.8969 - val_acc: 0.7140\n",
      "Epoch 13/90\n",
      "1000/1000 [==============================] - 116s 116ms/step - loss: 0.8932 - acc: 0.7147 - val_loss: 0.9059 - val_acc: 0.7100\n",
      "Epoch 14/90\n",
      "1000/1000 [==============================] - 114s 114ms/step - loss: 0.8922 - acc: 0.7148 - val_loss: 0.8845 - val_acc: 0.7140\n",
      "Epoch 15/90\n",
      "1000/1000 [==============================] - 115s 115ms/step - loss: 0.8836 - acc: 0.7179 - val_loss: 0.8939 - val_acc: 0.7210\n",
      "Epoch 16/90\n",
      "1000/1000 [==============================] - 116s 116ms/step - loss: 0.8769 - acc: 0.7192 - val_loss: 0.8789 - val_acc: 0.7130\n",
      "Epoch 17/90\n",
      "1000/1000 [==============================] - 115s 115ms/step - loss: 0.8496 - acc: 0.7266 - val_loss: 0.8679 - val_acc: 0.7250\n",
      "Epoch 18/90\n",
      "1000/1000 [==============================] - 115s 115ms/step - loss: 0.8589 - acc: 0.7238 - val_loss: 0.8785 - val_acc: 0.7110\n",
      "Epoch 19/90\n",
      "1000/1000 [==============================] - 116s 116ms/step - loss: 0.8575 - acc: 0.7246 - val_loss: 0.8638 - val_acc: 0.7180\n",
      "Epoch 20/90\n",
      "1000/1000 [==============================] - 115s 115ms/step - loss: 0.8527 - acc: 0.7255 - val_loss: 0.8602 - val_acc: 0.7330\n",
      "Epoch 21/90\n",
      "1000/1000 [==============================] - 116s 116ms/step - loss: 0.8388 - acc: 0.7284 - val_loss: 0.8621 - val_acc: 0.7280\n",
      "Epoch 22/90\n",
      "1000/1000 [==============================] - 116s 116ms/step - loss: 0.8155 - acc: 0.7359 - val_loss: 0.8467 - val_acc: 0.7270\n",
      "Epoch 23/90\n",
      "1000/1000 [==============================] - 116s 116ms/step - loss: 0.8216 - acc: 0.7336 - val_loss: 0.8509 - val_acc: 0.7230\n",
      "Epoch 24/90\n",
      "1000/1000 [==============================] - 117s 117ms/step - loss: 0.8248 - acc: 0.7329 - val_loss: 0.8605 - val_acc: 0.7260\n",
      "Epoch 25/90\n",
      "1000/1000 [==============================] - 116s 116ms/step - loss: 0.8256 - acc: 0.7339 - val_loss: 0.8531 - val_acc: 0.7310\n",
      "Epoch 26/90\n",
      "1000/1000 [==============================] - 116s 116ms/step - loss: 0.8330 - acc: 0.7320 - val_loss: 0.8591 - val_acc: 0.7260\n",
      "Epoch 27/90\n",
      "1000/1000 [==============================] - 116s 116ms/step - loss: 0.7914 - acc: 0.7438 - val_loss: 0.8366 - val_acc: 0.7310\n",
      "Epoch 28/90\n",
      "1000/1000 [==============================] - 116s 116ms/step - loss: 0.7995 - acc: 0.7401 - val_loss: 0.8400 - val_acc: 0.7280\n",
      "Epoch 29/90\n",
      "1000/1000 [==============================] - 116s 116ms/step - loss: 0.7998 - acc: 0.7407 - val_loss: 0.8297 - val_acc: 0.7390\n",
      "Epoch 30/90\n",
      "1000/1000 [==============================] - 116s 116ms/step - loss: 0.8010 - acc: 0.7394 - val_loss: 0.8131 - val_acc: 0.7450\n",
      "Epoch 31/90\n",
      "1000/1000 [==============================] - 116s 116ms/step - loss: 0.7978 - acc: 0.7404 - val_loss: 0.8310 - val_acc: 0.7430\n",
      "Epoch 32/90\n",
      "1000/1000 [==============================] - 119s 119ms/step - loss: 0.7722 - acc: 0.7476 - val_loss: 0.8326 - val_acc: 0.7450\n",
      "Epoch 33/90\n",
      "1000/1000 [==============================] - 117s 117ms/step - loss: 0.7724 - acc: 0.7483 - val_loss: 0.8267 - val_acc: 0.7420\n",
      "Epoch 34/90\n",
      "1000/1000 [==============================] - 117s 117ms/step - loss: 0.7737 - acc: 0.7482 - val_loss: 0.8138 - val_acc: 0.7460\n",
      "Epoch 35/90\n",
      "1000/1000 [==============================] - 117s 117ms/step - loss: 0.7774 - acc: 0.7469 - val_loss: 0.8219 - val_acc: 0.7440\n",
      "Epoch 36/90\n",
      "1000/1000 [==============================] - 117s 117ms/step - loss: 0.7754 - acc: 0.7467 - val_loss: 0.8140 - val_acc: 0.7470\n",
      "Epoch 37/90\n",
      "1000/1000 [==============================] - 118s 118ms/step - loss: 0.7493 - acc: 0.7548 - val_loss: 0.8274 - val_acc: 0.7350\n",
      "Epoch 38/90\n",
      "1000/1000 [==============================] - 117s 117ms/step - loss: 0.7464 - acc: 0.7556 - val_loss: 0.8146 - val_acc: 0.7360\n",
      "Epoch 39/90\n",
      "1000/1000 [==============================] - 118s 118ms/step - loss: 0.7504 - acc: 0.7538 - val_loss: 0.8125 - val_acc: 0.7440\n",
      "Epoch 40/90\n",
      "1000/1000 [==============================] - 117s 117ms/step - loss: 0.7545 - acc: 0.7539 - val_loss: 0.8166 - val_acc: 0.7300\n",
      "Epoch 41/90\n",
      "1000/1000 [==============================] - 117s 117ms/step - loss: 0.7583 - acc: 0.7525 - val_loss: 0.8129 - val_acc: 0.7420\n",
      "Epoch 42/90\n",
      "1000/1000 [==============================] - 118s 118ms/step - loss: 0.7422 - acc: 0.7563 - val_loss: 0.8254 - val_acc: 0.7310\n",
      "Epoch 43/90\n",
      "1000/1000 [==============================] - 117s 117ms/step - loss: 0.7283 - acc: 0.7609 - val_loss: 0.8081 - val_acc: 0.7460\n",
      "Epoch 44/90\n",
      "1000/1000 [==============================] - 116s 116ms/step - loss: 0.7300 - acc: 0.7599 - val_loss: 0.8152 - val_acc: 0.7410\n",
      "Epoch 45/90\n",
      "1000/1000 [==============================] - 117s 117ms/step - loss: 0.7362 - acc: 0.7582 - val_loss: 0.7939 - val_acc: 0.7420\n",
      "Epoch 46/90\n",
      "1000/1000 [==============================] - 116s 116ms/step - loss: 0.7303 - acc: 0.7594 - val_loss: 0.8033 - val_acc: 0.7390\n",
      "Epoch 47/90\n",
      "1000/1000 [==============================] - 117s 117ms/step - loss: 0.7308 - acc: 0.7606 - val_loss: 0.8033 - val_acc: 0.7480\n",
      "Epoch 48/90\n",
      "1000/1000 [==============================] - 117s 117ms/step - loss: 0.7011 - acc: 0.7691 - val_loss: 0.8201 - val_acc: 0.7440\n",
      "Epoch 49/90\n",
      "1000/1000 [==============================] - 117s 117ms/step - loss: 0.7110 - acc: 0.7670 - val_loss: 0.8210 - val_acc: 0.7310\n",
      "Epoch 50/90\n",
      "1000/1000 [==============================] - 117s 117ms/step - loss: 0.7116 - acc: 0.7658 - val_loss: 0.8234 - val_acc: 0.7330\n",
      "Epoch 51/90\n",
      "1000/1000 [==============================] - 117s 117ms/step - loss: 0.7181 - acc: 0.7633 - val_loss: 0.8019 - val_acc: 0.7460\n",
      "Epoch 52/90\n",
      "1000/1000 [==============================] - 117s 117ms/step - loss: 0.7179 - acc: 0.7643 - val_loss: 0.8181 - val_acc: 0.7400\n",
      "Epoch 53/90\n",
      "1000/1000 [==============================] - 117s 117ms/step - loss: 0.6751 - acc: 0.7774 - val_loss: 0.8169 - val_acc: 0.7500\n",
      "Epoch 54/90\n",
      "1000/1000 [==============================] - 116s 116ms/step - loss: 0.6845 - acc: 0.7744 - val_loss: 0.8206 - val_acc: 0.7470\n",
      "Epoch 55/90\n",
      "1000/1000 [==============================] - 117s 117ms/step - loss: 0.6982 - acc: 0.7700 - val_loss: 0.8051 - val_acc: 0.7480\n",
      "Epoch 56/90\n",
      "1000/1000 [==============================] - 117s 117ms/step - loss: 0.7015 - acc: 0.7694 - val_loss: 0.8089 - val_acc: 0.7470\n",
      "Epoch 57/90\n",
      "1000/1000 [==============================] - 117s 117ms/step - loss: 0.7071 - acc: 0.7661 - val_loss: 0.8096 - val_acc: 0.7530\n",
      "Epoch 58/90\n",
      "1000/1000 [==============================] - 117s 117ms/step - loss: 0.6666 - acc: 0.7794 - val_loss: 0.7885 - val_acc: 0.7470\n",
      "Epoch 59/90\n",
      "1000/1000 [==============================] - 117s 117ms/step - loss: 0.6796 - acc: 0.7750 - val_loss: 0.8035 - val_acc: 0.7550\n",
      "Epoch 60/90\n",
      "  92/1000 [=>............................] - ETA: 1:47 - loss: 0.7008 - acc: 0.7646Buffered data was truncated after reaching the output size limit."
     ]
    }
   ],
   "source": [
    "mg = batch_gen(train_df)\n",
    "history = model.fit_generator(mg, epochs=90,\n",
    "                    steps_per_epoch=1000,\n",
    "                    validation_data=(val_vects, val_y_labels),\n",
    "                    verbose=True)"
   ]
  },
  {
   "cell_type": "code",
   "execution_count": 18,
   "metadata": {
    "colab": {
     "base_uri": "https://localhost:8080/",
     "height": 374
    },
    "colab_type": "code",
    "id": "4BpMb3MIMlof",
    "outputId": "62690c15-9f67-4818-8553-4e989c1845b5"
   },
   "outputs": [
    {
     "data": {
      "image/png": "[encoded data removed]",
      "text/plain": [
       "<Figure size 864x432 with 1 Axes>"
      ]
     },
     "metadata": {
      "tags": []
     },
     "output_type": "display_data"
    }
   ],
   "source": [
    "plot_history(history)"
   ]
  },
  {
   "cell_type": "code",
   "execution_count": 19,
   "metadata": {
    "colab": {
     "base_uri": "https://localhost:8080/",
     "height": 51
    },
    "colab_type": "code",
    "id": "kqlktW3sMm9Q",
    "outputId": "e5ff9afb-1475-4d4e-b5a9-d9dbb6801c75"
   },
   "outputs": [
    {
     "name": "stdout",
     "output_type": "stream",
     "text": [
      "Epoch 1/1\n",
      "1000/1000 [==============================] - 115s 115ms/step - loss: 0.6028 - acc: 0.7984 - val_loss: 0.8307 - val_acc: 0.7430\n"
     ]
    }
   ],
   "source": [
    "history = model.fit_generator(mg, epochs=1,\n",
    "                    steps_per_epoch=1000,\n",
    "                    validation_data=(val_vects, val_y_labels),\n",
    "                    verbose=True)"
   ]
  },
  {
   "cell_type": "markdown",
   "metadata": {
    "colab_type": "text",
    "id": "GHGCRbBJlQdM"
   },
   "source": [
    "# Inference"
   ]
  },
  {
   "cell_type": "code",
   "execution_count": 21,
   "metadata": {
    "colab": {
     "base_uri": "https://localhost:8080/",
     "height": 34
    },
    "colab_type": "code",
    "id": "FfcKbrrtlQ_m",
    "outputId": "aafac7c0-c0c5-4266-dfe4-ab2b227962a0"
   },
   "outputs": [
    {
     "name": "stderr",
     "output_type": "stream",
     "text": [
      "674it [03:31,  3.71it/s]\n"
     ]
    }
   ],
   "source": [
    "# Make the prediction from the model\n",
    "batch_size = 256\n",
    "def batch_gen(test_df):\n",
    "    n_batches = math.ceil(len(test_df) / batch_size)\n",
    "    for i in range(n_batches):\n",
    "        texts = test_df.iloc[i*batch_size:(i+1)*batch_size, 1]\n",
    "        text_arr = np.array([text_to_array(text) for text in texts])\n",
    "        yield text_arr\n",
    "\n",
    "test_df = pd.read_csv(\"test.csv\")\n",
    "test_df[\"Supercategory\"] = test_df[\"image_path\"].str[0]\n",
    "supercats = np.array(test_df[\"Supercategory\"])\n",
    "supercat_dict = {\n",
    "    \"b\" : np.array([1]*17 + [0]*14 + [0]*27),\n",
    "    \"f\" : np.array([0]*17 + [1]*14 + [0]*27),\n",
    "    \"m\" : np.array([0]*17 + [0]*14 + [1]*27)\n",
    "}\n",
    "\n",
    "all_preds = []\n",
    "for x in tqdm(batch_gen(test_df)):\n",
    "    all_preds.extend(model.predict(x))"
   ]
  },
  {
   "cell_type": "code",
   "execution_count": 22,
   "metadata": {
    "colab": {
     "base_uri": "https://localhost:8080/",
     "height": 265
    },
    "colab_type": "code",
    "id": "5OJNph9HlVat",
    "outputId": "54e86b88-6e2f-436b-9bd1-5b5cfc85f669"
   },
   "outputs": [
    {
     "data": {
      "image/png": "[encoded data removed]",
      "text/plain": [
       "<Figure size 432x288 with 1 Axes>"
      ]
     },
     "metadata": {
      "tags": []
     },
     "output_type": "display_data"
    }
   ],
   "source": [
    "import matplotlib.pyplot as plt\n",
    "plt.plot(all_preds[0])\n",
    "plt.plot(all_preds[int(len(all_preds)/2)])\n",
    "plt.plot(all_preds[-1])\n",
    "plt.yscale(\"log\")\n",
    "plt.show()"
   ]
  },
  {
   "cell_type": "code",
   "execution_count": 23,
   "metadata": {
    "colab": {
     "base_uri": "https://localhost:8080/",
     "height": 34
    },
    "colab_type": "code",
    "id": "xy6oiNuflVc0",
    "outputId": "2ecd59cd-8c97-4d6b-e5ab-43c1196e6b0d"
   },
   "outputs": [
    {
     "name": "stdout",
     "output_type": "stream",
     "text": [
      "(172402, 58)\n"
     ]
    }
   ],
   "source": [
    "print(np.shape(all_preds))\n",
    "y_te = [np.argmax(pred) for pred,supercat in zip(all_preds,supercats)]"
   ]
  },
  {
   "cell_type": "code",
   "execution_count": 0,
   "metadata": {
    "colab": {},
    "colab_type": "code",
    "id": "v5Sy48fdlYIl"
   },
   "outputs": [],
   "source": [
    "submit_df = pd.DataFrame({\"itemid\": test_df[\"itemid\"], \"Category\": y_te})\n",
    "submit_df.to_csv(\"submission.csv\", index=False)"
   ]
  },
  {
   "cell_type": "code",
   "execution_count": 25,
   "metadata": {
    "colab": {
     "base_uri": "https://localhost:8080/",
     "height": 204
    },
    "colab_type": "code",
    "id": "Ce2HXuoilYKu",
    "outputId": "a4703f27-f34f-4508-d085-b9d44e360870"
   },
   "outputs": [
    {
     "data": {
      "text/html": [
       "<div>\n",
       "<style scoped>\n",
       "    .dataframe tbody tr th:only-of-type {\n",
       "        vertical-align: middle;\n",
       "    }\n",
       "\n",
       "    .dataframe tbody tr th {\n",
       "        vertical-align: top;\n",
       "    }\n",
       "\n",
       "    .dataframe thead th {\n",
       "        text-align: right;\n",
       "    }\n",
       "</style>\n",
       "<table border=\"1\" class=\"dataframe\">\n",
       "  <thead>\n",
       "    <tr style=\"text-align: right;\">\n",
       "      <th></th>\n",
       "      <th>Category</th>\n",
       "      <th>itemid</th>\n",
       "    </tr>\n",
       "  </thead>\n",
       "  <tbody>\n",
       "    <tr>\n",
       "      <th>0</th>\n",
       "      <td>5</td>\n",
       "      <td>370855998</td>\n",
       "    </tr>\n",
       "    <tr>\n",
       "      <th>1</th>\n",
       "      <td>5</td>\n",
       "      <td>637234604</td>\n",
       "    </tr>\n",
       "    <tr>\n",
       "      <th>2</th>\n",
       "      <td>5</td>\n",
       "      <td>690282890</td>\n",
       "    </tr>\n",
       "    <tr>\n",
       "      <th>3</th>\n",
       "      <td>4</td>\n",
       "      <td>930913462</td>\n",
       "    </tr>\n",
       "    <tr>\n",
       "      <th>4</th>\n",
       "      <td>5</td>\n",
       "      <td>1039280071</td>\n",
       "    </tr>\n",
       "  </tbody>\n",
       "</table>\n",
       "</div>"
      ],
      "text/plain": [
       "   Category      itemid\n",
       "0         5   370855998\n",
       "1         5   637234604\n",
       "2         5   690282890\n",
       "3         4   930913462\n",
       "4         5  1039280071"
      ]
     },
     "execution_count": 25,
     "metadata": {
      "tags": []
     },
     "output_type": "execute_result"
    }
   ],
   "source": [
    "submit_df.head()"
   ]
  },
  {
   "cell_type": "code",
   "execution_count": 26,
   "metadata": {
    "colab": {
     "base_uri": "https://localhost:8080/",
     "height": 34
    },
    "colab_type": "code",
    "id": "nhiccFQ17lnj",
    "outputId": "5138ffd1-b2b9-4e58-f4a7-6a2372e132ac"
   },
   "outputs": [
    {
     "data": {
      "text/plain": [
       "(172402, 2)"
      ]
     },
     "execution_count": 26,
     "metadata": {
      "tags": []
     },
     "output_type": "execute_result"
    }
   ],
   "source": [
    "submit_df.shape"
   ]
  },
  {
   "cell_type": "code",
   "execution_count": 0,
   "metadata": {
    "colab": {},
    "colab_type": "code",
    "id": "6mx1WAVK97qK"
   },
   "outputs": [],
   "source": []
  }
 ],
 "metadata": {
  "accelerator": "GPU",
  "colab": {
   "name": "NDSC_beginner_LSTM_withColab.ipynb",
   "provenance": [],
   "version": "0.3.2"
  },
  "kernelspec": {
   "display_name": "Python 3",
   "language": "python",
   "name": "python3"
  },
  "language_info": {
   "codemirror_mode": {
    "name": "ipython",
    "version": 3
   },
   "file_extension": ".py",
   "mimetype": "text/x-python",
   "name": "python",
   "nbconvert_exporter": "python",
   "pygments_lexer": "ipython3",
   "version": "3.6.5"
  }
 },
 "nbformat": 4,
 "nbformat_minor": 1
}
