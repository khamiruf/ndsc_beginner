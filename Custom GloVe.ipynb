{
 "cells": [
  {
   "cell_type": "markdown",
   "metadata": {},
   "source": [
    "# Custom GloVe\n",
    "_global vector for word representation - customized_"
   ]
  },
  {
   "cell_type": "code",
   "execution_count": 1,
   "metadata": {},
   "outputs": [],
   "source": [
    "import numpy as np\n",
    "import pandas as pd\n",
    "import os\n",
    "import re\n",
    "import time\n",
    "\n",
    "from gensim.models import Word2Vec\n",
    "from tqdm import tqdm\n",
    "\n",
    "tqdm.pandas()"
   ]
  },
  {
   "cell_type": "code",
   "execution_count": 2,
   "metadata": {},
   "outputs": [],
   "source": [
    "def preprocessing(titles_array):\n",
    "    \n",
    "    \"\"\"\n",
    "    Take in an array of titles, and return the processed titles.\n",
    "    \n",
    "    (e.g. input: 'i am a boy', output - 'am boy')  -> since I remove those words with length 1\n",
    "    \n",
    "    Feel free to change the preprocessing steps and see how it affects the modelling results!\n",
    "    \"\"\"\n",
    "    \n",
    "    processed_array = []\n",
    "    \n",
    "    for title in tqdm(titles_array):\n",
    "        \n",
    "        # remove other non-alphabets symbols with space (i.e. keep only alphabets and whitespaces).\n",
    "        processed = re.sub('[^a-zA-Z ]', '', title)\n",
    "        \n",
    "        words = processed.split()\n",
    "        \n",
    "        # keep words that have length of more than 1 (e.g. gb, bb), remove those with length 1.\n",
    "        processed_array.append(' '.join([word for word in words if len(word) > 1]))\n",
    "    \n",
    "    return processed_array"
   ]
  },
  {
   "cell_type": "code",
   "execution_count": 3,
   "metadata": {},
   "outputs": [],
   "source": [
    "df_train = pd.read_csv('train.csv')\n",
    "df_test = pd.read_csv('test.csv')"
   ]
  },
  {
   "cell_type": "code",
   "execution_count": 4,
   "metadata": {},
   "outputs": [
    {
     "name": "stderr",
     "output_type": "stream",
     "text": [
      "100%|██████████████████████████████████████████████████████████████████████| 666615/666615 [00:02<00:00, 288451.28it/s]\n",
      "100%|██████████████████████████████████████████████████████████████████████| 172402/172402 [00:00<00:00, 291952.23it/s]\n",
      "100%|██████████████████████████████████████████████████████████████████████| 839017/839017 [00:01<00:00, 502774.24it/s]\n"
     ]
    }
   ],
   "source": [
    "df_train['processed'] = preprocessing(df_train['title'])\n",
    "df_test['processed'] = preprocessing(df_test['title'])\n",
    "\n",
    "sentences = pd.concat([df_train['processed'], df_test['processed']],axis=0)\n",
    "train_sentences = list(sentences.progress_apply(str.split).values)"
   ]
  },
  {
   "cell_type": "code",
   "execution_count": 9,
   "metadata": {},
   "outputs": [
    {
     "data": {
      "text/plain": [
       "0                      nyx sex bomb pallete natural palette\n",
       "1         etude house precious mineral any cushion pearl...\n",
       "2                                  milani rose powder blush\n",
       "3                       etude house baby sweet sugar powder\n",
       "4              bedak revlon color stay aqua mineral make up\n",
       "5                                   dr pure whitening cream\n",
       "6                                chanel powder blush malice\n",
       "7                            snail white cream original 100\n",
       "8                                 sunprise all proof spf 50\n",
       "9                    eyebrow powder nyx satuan rp 15.000 pc\n",
       "10                              monistat chafing relief gel\n",
       "11                             milani rose powder blush tea\n",
       "12                              the balm meet matte trimony\n",
       "13                     laneige water base cc cream spf36 pa\n",
       "14        giordani gold age defying compact foundation d...\n",
       "15        the body shop refill moisture white perfect fo...\n",
       "16        lancome blush subtil long lasting powder blush...\n",
       "17        missha line friends magic cushion moisture 2 r...\n",
       "18                       elf acne fighting foundation beige\n",
       "19                                   cream dr biru original\n",
       "20               city color cream concealer contour palette\n",
       "21           etude pink vital water special trial kit isi 4\n",
       "22              etude magic any cushion refill spf34 15gram\n",
       "23                       city color cream concealer pallete\n",
       "24                                make over cleansing cream\n",
       "25                       missha perfect cover bb cream 20ml\n",
       "26                                   cream cr biru original\n",
       "27                      sale magic plus white cream premium\n",
       "28        hadalabo gokujyun alpha ultimate anti aging lo...\n",
       "29                         tony moly backstage gel eyeliner\n",
       "                                ...                        \n",
       "666585                                         oppo a83 2gb\n",
       "666586    baseus all screen arc surface tempered glass f...\n",
       "666587                   brandcode b81 plus 3sim big speker\n",
       "666588         terpopuler brandcode b3310 red garansi resmi\n",
       "666589    cuci gudang infinix hot 4 pro x556 bonus anti ...\n",
       "666590     new samsung galaxy j6 free anker powerport black\n",
       "666591                            samsung j7 prime terlaris\n",
       "666592             apple airpods with charging case terbaik\n",
       "666593                                samsung note 8 second\n",
       "666594    turun harga baterai lenovo vibe shot z920 z90 ...\n",
       "666595                                              oppo f9\n",
       "666596                                            lenovo z5\n",
       "666597    apple iphone 7 32 gb smartphone garansi resmi ...\n",
       "666598    bestseller nokia 130 dual sim new 2017 stok te...\n",
       "666599        big promo new arrivalls samsung galaxy note 9\n",
       "666600    wa 0831 4044 8453 oppo f1s plus 4g lte ram 4 g...\n",
       "666601                         xiaomi mi6 ceramic 6gb 128gb\n",
       "666602    promo spesial sony hear on 2 ear headphone mdr...\n",
       "666603    gratis ongkir mi max 2 series 4 64 global new ...\n",
       "666604    new promo samsung galaxy s8 plus case otterbox...\n",
       "666605    ipad mini 3 16gb wifi cell 4g lte second fulls...\n",
       "666606    stok terbatas samsung galaxy j4 2gb 32gb garan...\n",
       "666607    stok terbatas iphone 6s 128gb fu second origin...\n",
       "666608                                    iphone 8 64gb red\n",
       "666609    samsung note 9 rom 128gb ram 6gb new resmi kre...\n",
       "666610    beli 2 gratis 1 xiaomi mi mix black 6 64 rom g...\n",
       "666611    android i phone x real 4g 16gb free wireless c...\n",
       "666612                       xiaomi mia1 ram 4gb 64gb black\n",
       "666613                     khusus hari ini samsung j2 prime\n",
       "666614              oppo a83 2 gb new garansi resmi 1 tahun\n",
       "Name: title, Length: 666615, dtype: object"
      ]
     },
     "execution_count": 9,
     "metadata": {},
     "output_type": "execute_result"
    }
   ],
   "source": [
    "df_train.title"
   ]
  },
  {
   "cell_type": "code",
   "execution_count": 8,
   "metadata": {},
   "outputs": [
    {
     "data": {
      "text/plain": [
       "0                      nyx sex bomb pallete natural palette\n",
       "1         etude house precious mineral any cushion pearl...\n",
       "2                                  milani rose powder blush\n",
       "3                       etude house baby sweet sugar powder\n",
       "4              bedak revlon color stay aqua mineral make up\n",
       "5                                   dr pure whitening cream\n",
       "6                                chanel powder blush malice\n",
       "7                                snail white cream original\n",
       "8                                    sunprise all proof spf\n",
       "9                           eyebrow powder nyx satuan rp pc\n",
       "10                              monistat chafing relief gel\n",
       "11                             milani rose powder blush tea\n",
       "12                              the balm meet matte trimony\n",
       "13                       laneige water base cc cream spf pa\n",
       "14        giordani gold age defying compact foundation d...\n",
       "15        the body shop refill moisture white perfect fo...\n",
       "16        lancome blush subtil long lasting powder blush...\n",
       "17        missha line friends magic cushion moisture ref...\n",
       "18                       elf acne fighting foundation beige\n",
       "19                                   cream dr biru original\n",
       "20               city color cream concealer contour palette\n",
       "21             etude pink vital water special trial kit isi\n",
       "22                  etude magic any cushion refill spf gram\n",
       "23                       city color cream concealer pallete\n",
       "24                                make over cleansing cream\n",
       "25                         missha perfect cover bb cream ml\n",
       "26                                   cream cr biru original\n",
       "27                      sale magic plus white cream premium\n",
       "28        hadalabo gokujyun alpha ultimate anti aging lo...\n",
       "29                         tony moly backstage gel eyeliner\n",
       "                                ...                        \n",
       "666585                                              oppo gb\n",
       "666586    baseus all screen arc surface tempered glass f...\n",
       "666587                        brandcode plus sim big speker\n",
       "666588               terpopuler brandcode red garansi resmi\n",
       "666589    cuci gudang infinix hot pro bonus anti gores g...\n",
       "666590        new samsung galaxy free anker powerport black\n",
       "666591                               samsung prime terlaris\n",
       "666592             apple airpods with charging case terbaik\n",
       "666593                                  samsung note second\n",
       "666594    turun harga baterai lenovo vibe shot bl origin...\n",
       "666595                                                 oppo\n",
       "666596                                               lenovo\n",
       "666597    apple iphone gb smartphone garansi resmi disti...\n",
       "666598          bestseller nokia dual sim new stok terbatas\n",
       "666599          big promo new arrivalls samsung galaxy note\n",
       "666600                    wa oppo fs plus lte ram gb mmc gb\n",
       "666601                              xiaomi mi ceramic gb gb\n",
       "666602    promo spesial sony hear on ear headphone mdr h...\n",
       "666603         gratis ongkir mi max series global new idola\n",
       "666604    new promo samsung galaxy plus case otterbox se...\n",
       "666605    ipad mini gb wifi cell lte second fullset ex g...\n",
       "666606    stok terbatas samsung galaxy gb gb garansi res...\n",
       "666607    stok terbatas iphone gb fu second original gar...\n",
       "666608                                        iphone gb red\n",
       "666609    samsung note rom gb ram gb new resmi kredit di...\n",
       "666610    beli gratis xiaomi mi mix black rom global off...\n",
       "666611    android phone real gb free wireless charger so...\n",
       "666612                           xiaomi mia ram gb gb black\n",
       "666613                        khusus hari ini samsung prime\n",
       "666614                      oppo gb new garansi resmi tahun\n",
       "Name: processed, Length: 666615, dtype: object"
      ]
     },
     "execution_count": 8,
     "metadata": {},
     "output_type": "execute_result"
    }
   ],
   "source": [
    "df_train['processed']"
   ]
  },
  {
   "cell_type": "code",
   "execution_count": 5,
   "metadata": {},
   "outputs": [
    {
     "name": "stdout",
     "output_type": "stream",
     "text": [
      "Time taken : 0.58 mins\n"
     ]
    }
   ],
   "source": [
    "# Parameters reference : https://www.quora.com/How-do-I-determine-Word2Vec-parameters\n",
    "# Feel free to customise your own embedding\n",
    "\n",
    "start_time = time.time()\n",
    "\n",
    "model = Word2Vec(sentences=train_sentences, \n",
    "                 sg=1, \n",
    "                 size=100,  \n",
    "                 workers=4)\n",
    "\n",
    "print(f'Time taken : {(time.time() - start_time) / 60:.2f} mins')"
   ]
  },
  {
   "cell_type": "code",
   "execution_count": 6,
   "metadata": {},
   "outputs": [
    {
     "data": {
      "text/plain": [
       "16689"
      ]
     },
     "execution_count": 6,
     "metadata": {},
     "output_type": "execute_result"
    }
   ],
   "source": [
    "# Total number of vocab in our custom word embedding\n",
    "\n",
    "len(model.wv.vocab.keys())"
   ]
  },
  {
   "cell_type": "code",
   "execution_count": 7,
   "metadata": {},
   "outputs": [
    {
     "data": {
      "text/plain": [
       "100"
      ]
     },
     "execution_count": 7,
     "metadata": {},
     "output_type": "execute_result"
    }
   ],
   "source": [
    "# Check out the dimension of each word (we set it to 100 in the above training step)\n",
    "\n",
    "model.wv.vector_size"
   ]
  },
  {
   "cell_type": "code",
   "execution_count": 10,
   "metadata": {},
   "outputs": [
    {
     "data": {
      "text/plain": [
       "array([-0.25342065,  0.4158013 ,  0.0435044 , -0.09832075,  0.57854474,\n",
       "       -0.43043593, -0.59564346, -0.28499427, -0.13541934,  0.28901628,\n",
       "       -0.47354352,  0.38355872,  0.01143684,  0.6523723 ,  0.14603406,\n",
       "        0.13597351,  0.53975284, -0.04991831,  0.09222654,  0.93449503,\n",
       "       -0.30724114,  1.0729951 , -0.1273521 , -0.9999721 ,  0.3569624 ,\n",
       "        0.2943077 , -0.80097723,  0.00157885,  0.6185943 ,  0.1769473 ,\n",
       "       -0.45400771, -0.59157634, -0.18546109,  0.1224787 ,  0.19793004,\n",
       "        0.15625094,  0.32764742,  0.45199618, -0.38252822, -0.03542918,\n",
       "       -0.2804497 , -0.30722934,  0.18441322, -0.49494416,  0.12744379,\n",
       "        0.36388293, -0.30477178,  0.38865706,  0.24851401,  1.3736799 ,\n",
       "       -0.39971182,  0.40666267, -0.61906695,  0.02509379, -0.31460485,\n",
       "        1.0258284 , -0.26852623,  0.41874593,  0.32998958, -0.12060785,\n",
       "        0.5871205 , -0.08545645, -0.9912803 , -0.2865913 ,  0.86547625,\n",
       "       -0.04333999,  0.3538542 ,  0.8313623 ,  0.5438686 , -0.32882982,\n",
       "        0.358958  ,  0.1493129 , -0.73371106, -0.27009362, -0.5445545 ,\n",
       "       -0.10041787,  0.92849284, -0.3223211 ,  0.7453882 , -0.0433095 ,\n",
       "       -0.32718942, -0.06708699,  0.43240508,  0.23724349, -0.18460123,\n",
       "        0.20067528,  0.10579667, -0.13649695,  0.02278387, -0.16377595,\n",
       "        0.5972273 ,  0.19362311,  0.19614045,  0.2522966 ,  0.64399594,\n",
       "       -0.4627774 ,  0.03007507,  0.07893132, -0.36673653, -0.7216449 ],\n",
       "      dtype=float32)"
      ]
     },
     "execution_count": 10,
     "metadata": {},
     "output_type": "execute_result"
    }
   ],
   "source": [
    "# Check out how 'iphone' is represented (an array of 100 numbers)\n",
    "\n",
    "model.wv.get_vector('iphone')"
   ]
  },
  {
   "cell_type": "code",
   "execution_count": 11,
   "metadata": {},
   "outputs": [
    {
     "data": {
      "text/plain": [
       "[('iphones', 0.7719532251358032),\n",
       " ('apple', 0.7023388147354126),\n",
       " ('cpo', 0.7015286684036255),\n",
       " ('iph', 0.6962280869483948),\n",
       " ('ten', 0.692862868309021),\n",
       " ('jetblack', 0.6899570226669312),\n",
       " ('originaliphone', 0.6825147867202759),\n",
       " ('blackmatte', 0.6746338605880737),\n",
       " ('spacegrey', 0.6744704246520996),\n",
       " ('fu', 0.6695471405982971)]"
      ]
     },
     "execution_count": 11,
     "metadata": {},
     "output_type": "execute_result"
    }
   ],
   "source": [
    "# Find words with similar meaning to 'iphone'\n",
    "\n",
    "model.wv.most_similar('iphone')"
   ]
  },
  {
   "cell_type": "code",
   "execution_count": 12,
   "metadata": {},
   "outputs": [],
   "source": [
    "model.wv.save_word2vec_format('custom_glove_100d.txt')\n",
    "\n",
    "\n",
    "# How to load:\n",
    "# w2v = KeyedVectors.load_word2vec_format('custom_glove_100d.txt')\n",
    "\n",
    "# How to get vector using loaded model\n",
    "# w2v.get_vector('iphone')"
   ]
  },
  {
   "cell_type": "code",
   "execution_count": null,
   "metadata": {},
   "outputs": [],
   "source": []
  }
 ],
 "metadata": {
  "kernelspec": {
   "display_name": "Python 3",
   "language": "python",
   "name": "python3"
  },
  "language_info": {
   "codemirror_mode": {
    "name": "ipython",
    "version": 3
   },
   "file_extension": ".py",
   "mimetype": "text/x-python",
   "name": "python",
   "nbconvert_exporter": "python",
   "pygments_lexer": "ipython3",
   "version": "3.6.5"
  }
 },
 "nbformat": 4,
 "nbformat_minor": 2
}
